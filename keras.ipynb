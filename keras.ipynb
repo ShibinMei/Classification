{
 "cells": [
  {
   "cell_type": "markdown",
   "metadata": {},
   "source": [
    "# Keras Tutorial"
   ]
  },
  {
   "cell_type": "markdown",
   "metadata": {},
   "source": [
    "Keras is a popular deep learning framework and it's easy to get started."
   ]
  },
  {
   "cell_type": "code",
   "execution_count": 1,
   "metadata": {},
   "outputs": [
    {
     "name": "stderr",
     "output_type": "stream",
     "text": [
      "Using TensorFlow backend.\n"
     ]
    }
   ],
   "source": [
    "import keras\n",
    "from keras.datasets import mnist\n",
    "from keras.models import Sequential\n",
    "from keras.layers import Dense, Dropout, Flatten, Conv2D, MaxPooling2D\n",
    "\n",
    "BATCH_SIZE = 64\n",
    "NUM_CLASSES = 10\n",
    "NUM_EPOCHS = 10"
   ]
  },
  {
   "cell_type": "code",
   "execution_count": 2,
   "metadata": {
    "collapsed": true
   },
   "outputs": [],
   "source": [
    "import tensorflow as tf\n",
    "from keras.backend.tensorflow_backend import set_session \n",
    "\n",
    "config = tf.ConfigProto() \n",
    "config.gpu_options.per_process_gpu_memory_fraction = 0.3 \n",
    "\n",
    "set_session(tf.Session(config=config))"
   ]
  },
  {
   "cell_type": "markdown",
   "metadata": {},
   "source": [
    "First, we read the mnist data and preprocess them."
   ]
  },
  {
   "cell_type": "code",
   "execution_count": 3,
   "metadata": {},
   "outputs": [
    {
     "name": "stdout",
     "output_type": "stream",
     "text": [
      "(60000, 28, 28)\n",
      "(60000,)\n",
      "(10000, 28, 28)\n",
      "(10000,)\n",
      "(60000, 28, 28, 1)\n",
      "(60000, 10)\n",
      "(10000, 28, 28, 1)\n",
      "(10000, 10)\n"
     ]
    }
   ],
   "source": [
    "# download and load the data (split them between train and test sets)\n",
    "(x_train, y_train), (x_test, y_test) = mnist.load_data()\n",
    "print(x_train.shape)\n",
    "print(y_train.shape)\n",
    "print(x_test.shape)\n",
    "print(y_test.shape)\n",
    "\n",
    "# expand the channel dimension\n",
    "x_train = x_train.reshape(x_train.shape[0], 28, 28, 1)\n",
    "x_test = x_test.reshape(x_test.shape[0], 28, 28, 1)\n",
    "input_shape = (28, 28, 1)\n",
    "\n",
    "# make the value of pixels from [0, 255] to [0, 1] for further process\n",
    "x_train = x_train.astype('float32') / 255.\n",
    "x_test = x_test.astype('float32') / 255.\n",
    "\n",
    "# convert class vectors to binary class matrics\n",
    "y_train = keras.utils.to_categorical(y_train, NUM_CLASSES)\n",
    "y_test = keras.utils.to_categorical(y_test, NUM_CLASSES)\n",
    "#将整型标签转为onehot。y为int数组，num_classes为标签类别总数\n",
    "\n",
    "print(x_train.shape)\n",
    "print(y_train.shape)\n",
    "print(x_test.shape)\n",
    "print(y_test.shape)"
   ]
  },
  {
   "cell_type": "markdown",
   "metadata": {},
   "source": [
    "Then, we define the model, object function and optimizer that we use to classify."
   ]
  },
  {
   "cell_type": "code",
   "execution_count": 4,
   "metadata": {},
   "outputs": [
    {
     "name": "stdout",
     "output_type": "stream",
     "text": [
      "_________________________________________________________________\n",
      "Layer (type)                 Output Shape              Param #   \n",
      "=================================================================\n",
      "conv2d_1 (Conv2D)            (None, 28, 28, 32)        832       \n",
      "_________________________________________________________________\n",
      "max_pooling2d_1 (MaxPooling2 (None, 14, 14, 32)        0         \n",
      "_________________________________________________________________\n",
      "conv2d_2 (Conv2D)            (None, 14, 14, 64)        51264     \n",
      "_________________________________________________________________\n",
      "max_pooling2d_2 (MaxPooling2 (None, 7, 7, 64)          0         \n",
      "_________________________________________________________________\n",
      "flatten_1 (Flatten)          (None, 3136)              0         \n",
      "_________________________________________________________________\n",
      "dense_1 (Dense)              (None, 128)               401536    \n",
      "_________________________________________________________________\n",
      "dense_2 (Dense)              (None, 10)                1290      \n",
      "=================================================================\n",
      "Total params: 454,922\n",
      "Trainable params: 454,922\n",
      "Non-trainable params: 0\n",
      "_________________________________________________________________\n"
     ]
    }
   ],
   "source": [
    "# define the model\n",
    "model = Sequential()\n",
    "model.add(Conv2D(32,(5,5),input_shape=input_shape,padding='same',activation='relu'))\n",
    "model.add(MaxPooling2D(pool_size=(2,2)))\n",
    "model.add(Conv2D(64,(5,5),padding='same',activation='relu'))\n",
    "model.add(MaxPooling2D(pool_size=(2,2)))\n",
    "model.add(Flatten())\n",
    "model.add(Dense(128,activation='relu'))\n",
    "model.add(Dense(NUM_CLASSES,activation='softmax'))\n",
    "\n",
    "# define the object function, optimizer and metrics\n",
    "model.compile(loss='categorical_crossentropy', optimizer='adam', metrics=['accuracy'])\n",
    "model.summary()"
   ]
  },
  {
   "cell_type": "markdown",
   "metadata": {},
   "source": [
    "Next, we can start to train and evaluate!"
   ]
  },
  {
   "cell_type": "code",
   "execution_count": 5,
   "metadata": {
    "scrolled": false
   },
   "outputs": [
    {
     "name": "stdout",
     "output_type": "stream",
     "text": [
      "Epoch 1/10\n",
      "60000/60000 [==============================] - 39s 657us/step - loss: 0.1388 - acc: 0.9574\n",
      "Epoch 2/10\n",
      "60000/60000 [==============================] - 32s 529us/step - loss: 0.0408 - acc: 0.9873\n",
      "Epoch 3/10\n",
      "60000/60000 [==============================] - 32s 529us/step - loss: 0.0286 - acc: 0.9908\n",
      "Epoch 4/10\n",
      "60000/60000 [==============================] - 32s 530us/step - loss: 0.0206 - acc: 0.9936\n",
      "Epoch 5/10\n",
      "60000/60000 [==============================] - 32s 526us/step - loss: 0.0150 - acc: 0.9952\n",
      "Epoch 6/10\n",
      "60000/60000 [==============================] - 32s 526us/step - loss: 0.0131 - acc: 0.9953\n",
      "Epoch 7/10\n",
      "60000/60000 [==============================] - 32s 527us/step - loss: 0.0101 - acc: 0.9967\n",
      "Epoch 8/10\n",
      "60000/60000 [==============================] - 31s 525us/step - loss: 0.0088 - acc: 0.9974\n",
      "Epoch 9/10\n",
      "60000/60000 [==============================] - 31s 525us/step - loss: 0.0071 - acc: 0.9976\n",
      "Epoch 10/10\n",
      "60000/60000 [==============================] - 31s 519us/step - loss: 0.0057 - acc: 0.9982\n",
      "Training loss: 0.0057, Training accuracy: 99.8167%\n",
      "Testing loss: 0.0398, Testing accuracy: 99.0200%\n"
     ]
    }
   ],
   "source": [
    "# train\n",
    "History=model.fit(x_train,y_train,epochs=NUM_EPOCHS,batch_size=BATCH_SIZE,verbose=1)\n",
    "proc=History.history\n",
    "training_loss=proc['loss'][-1]\n",
    "training_accuracy=proc['acc'][-1]\n",
    "\n",
    "# evaluate\n",
    "score=model.evaluate(x_test,y_test,verbose=0)\n",
    "testing_loss=score[0]\n",
    "testing_accuracy=score[1]\n",
    "\n",
    "print('Training loss: %.4f, Training accuracy: %.4f%%' % (training_loss,training_accuracy*100))\n",
    "print('Testing loss: %.4f, Testing accuracy: %.4f%%' % (testing_loss,testing_accuracy*100))"
   ]
  },
  {
   "cell_type": "markdown",
   "metadata": {},
   "source": [
    "#### Q6:\n",
    "Please print the training and testing accuracy."
   ]
  },
  {
   "cell_type": "code",
   "execution_count": null,
   "metadata": {
    "collapsed": true
   },
   "outputs": [],
   "source": [
    "#Training loss: 0.0057, Training accuracy: 99.82%\n",
    "#Testing loss: 0.0398, Testing accuracy: 99.02%"
   ]
  }
 ],
 "metadata": {
  "kernelspec": {
   "display_name": "Python 3",
   "language": "python",
   "name": "python3"
  },
  "language_info": {
   "codemirror_mode": {
    "name": "ipython",
    "version": 3
   },
   "file_extension": ".py",
   "mimetype": "text/x-python",
   "name": "python",
   "nbconvert_exporter": "python",
   "pygments_lexer": "ipython3",
   "version": "3.6.2"
  }
 },
 "nbformat": 4,
 "nbformat_minor": 2
}
